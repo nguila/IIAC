{
  "cells": [
    {
      "cell_type": "markdown",
      "metadata": {
        "id": "view-in-github",
        "colab_type": "text"
      },
      "source": [
        "<a href=\"https://colab.research.google.com/github/nguila/IIAC/blob/main/C%C3%B3pia_de_Assessing_Password_Security_Using_Machine_Learning_teste_ok.ipynb\" target=\"_parent\"><img src=\"https://colab.research.google.com/assets/colab-badge.svg\" alt=\"Open In Colab\"/></a>"
      ]
    },
    {
      "cell_type": "code",
      "execution_count": null,
      "metadata": {
        "colab": {
          "base_uri": "https://localhost:8080/"
        },
        "id": "DJWbtIT-DlT_",
        "outputId": "78114cef-f6c8-4470-9d29-5ef89ec69b2d"
      },
      "outputs": [
        {
          "output_type": "stream",
          "name": "stdout",
          "text": [
            "--2023-06-12 18:00:30--  https://github.com/nunoaflopes/IA4cyber-Livro1-ML-for-Cyber-Cookbook-Packt/raw/master/Chapter07/Assessing%20Password%20Security%20Using%20Machine%20Learning/passwordDataset.7z\n",
            "Resolving github.com (github.com)... 20.27.177.113\n",
            "Connecting to github.com (github.com)|20.27.177.113|:443... connected.\n",
            "HTTP request sent, awaiting response... 302 Found\n",
            "Location: https://raw.githubusercontent.com/nunoaflopes/IA4cyber-Livro1-ML-for-Cyber-Cookbook-Packt/master/Chapter07/Assessing%20Password%20Security%20Using%20Machine%20Learning/passwordDataset.7z [following]\n",
            "--2023-06-12 18:00:30--  https://raw.githubusercontent.com/nunoaflopes/IA4cyber-Livro1-ML-for-Cyber-Cookbook-Packt/master/Chapter07/Assessing%20Password%20Security%20Using%20Machine%20Learning/passwordDataset.7z\n",
            "Resolving raw.githubusercontent.com (raw.githubusercontent.com)... 185.199.108.133, 185.199.110.133, 185.199.111.133, ...\n",
            "Connecting to raw.githubusercontent.com (raw.githubusercontent.com)|185.199.108.133|:443... connected.\n",
            "HTTP request sent, awaiting response... 200 OK\n",
            "Length: 4633682 (4.4M) [application/octet-stream]\n",
            "Saving to: ‘passwordDataset.7z’\n",
            "\n",
            "passwordDataset.7z  100%[===================>]   4.42M  --.-KB/s    in 0.09s   \n",
            "\n",
            "2023-06-12 18:00:31 (50.0 MB/s) - ‘passwordDataset.7z’ saved [4633682/4633682]\n",
            "\n",
            "\n",
            "7-Zip (a) [64] 16.02 : Copyright (c) 1999-2016 Igor Pavlov : 2016-05-21\n",
            "p7zip Version 16.02 (locale=en_US.UTF-8,Utf16=on,HugeFiles=on,64 bits,2 CPUs Intel(R) Xeon(R) CPU @ 2.20GHz (406F0),ASM,AES-NI)\n",
            "\n",
            "Scanning the drive for archives:\n",
            "  0M Scan\b\b\b\b\b\b\b\b\b         \b\b\b\b\b\b\b\b\b1 file, 4633682 bytes (4526 KiB)\n",
            "\n",
            "Extracting archive: passwordDataset.7z\n",
            "--\n",
            "Path = passwordDataset.7z\n",
            "Type = 7z\n",
            "Physical Size = 4633682\n",
            "Headers Size = 146\n",
            "Method = LZMA2:12m\n",
            "Solid = -\n",
            "Blocks = 1\n",
            "\n",
            "  0%\b\b\b\b    \b\b\b\b\n",
            "Would you like to replace the existing file:\n",
            "  Path:     ./passwordDataset.csv\n",
            "  Size:     9368084 bytes (9149 KiB)\n",
            "  Modified: 2019-05-08 04:12:34\n",
            "with the file from archive:\n",
            "  Path:     passwordDataset.csv\n",
            "  Size:     9368084 bytes (9149 KiB)\n",
            "  Modified: 2019-05-08 04:12:34\n",
            "? (Y)es / (N)o / (A)lways / (S)kip all / A(u)to rename all / (Q)uit? "
          ]
        }
      ],
      "source": [
        "import pandas as pd\n",
        "import numpy as np\n",
        "import seaborn as sns\n",
        "import warnings\n",
        "warnings.filterwarnings('ignore')\n",
        "\n",
        "\n",
        "# https://github.com/nunoaflopes/IA4cyber-Livro1-ML-for-Cyber-Cookbook-Packt/raw/master/Chapter07/Assessing%20Password%20Security%20Using%20Machine%20Learning/passwordDataset.7z\n",
        "\n",
        "# file: passwordDataset.7z\n",
        "# size: 4633682\n",
        "\n",
        "!wget https://github.com/nunoaflopes/IA4cyber-Livro1-ML-for-Cyber-Cookbook-Packt/raw/master/Chapter07/Assessing%20Password%20Security%20Using%20Machine%20Learning/passwordDataset.7z\n",
        "\n",
        "!p7zip -d passwordDataset.7z\n",
        "!ls -la\n",
        "\n",
        "\n",
        "df = pd.read_csv(\n",
        "    \"passwordDataset.csv\", dtype={\"password\": \"str\", \"strength\": \"int\"}, index_col=None\n",
        ")"
      ]
    },
    {
      "cell_type": "code",
      "source": [
        "import pandas as pd\n",
        "import numpy as np\n",
        "from sklearn.feature_extraction.text import CountVectorizer\n",
        "from sklearn.feature_extraction.text import TfidfVectorizer\n",
        "from sklearn.model_selection import train_test_split\n",
        "from sklearn.ensemble import RandomForestClassifier\n",
        "\n",
        "#from google.colab import files\n",
        "#uploaded = files.upload()\n",
        "\n",
        "data = pd.read_csv(\"passwordDataset.csv\", error_bad_lines=False)\n",
        "\n",
        "print(data.head())"
      ],
      "metadata": {
        "id": "b7py6dAPM-CD"
      },
      "execution_count": null,
      "outputs": []
    },
    {
      "cell_type": "code",
      "source": [
        "data = data.dropna()\n",
        "data[\"strength\"] = data[\"strength\"].map({0: \"Weak\", \n",
        "                                         1: \"Medium\",\n",
        "                                         2: \"Strong\"})\n",
        "print(data.sample(5))"
      ],
      "metadata": {
        "id": "JhqucUfANRP7"
      },
      "execution_count": null,
      "outputs": []
    },
    {
      "cell_type": "code",
      "source": [
        "def word(password):\n",
        "    character=[]\n",
        "    for i in password:\n",
        "        character.append(i)\n",
        "    return character\n",
        "  \n",
        "x = np.array(data[\"password\"])\n",
        "y = np.array(data[\"strength\"])\n",
        "\n",
        "tdif = TfidfVectorizer(tokenizer=word)\n",
        "x = tdif.fit_transform(x)\n",
        "xtrain, xtest, ytrain, ytest = train_test_split(x, y, \n",
        "                                                test_size=0.05, \n",
        "                                                random_state=42)"
      ],
      "metadata": {
        "id": "7BRIz-YoNZra"
      },
      "execution_count": null,
      "outputs": []
    },
    {
      "cell_type": "code",
      "source": [
        "model = RandomForestClassifier()\n",
        "model.fit(xtrain, ytrain)\n",
        "print(model.score(xtest, ytest))"
      ],
      "metadata": {
        "id": "1VBa6L2nNkQ7"
      },
      "execution_count": null,
      "outputs": []
    },
    {
      "cell_type": "code",
      "source": [
        "import getpass\n",
        "user = getpass.getpass(\"Enter Password: \")\n",
        "data = tdif.transform([user]).toarray()\n",
        "output = model.predict(data)\n",
        "print(output)"
      ],
      "metadata": {
        "id": "-uWQFLx2Y8dm"
      },
      "execution_count": null,
      "outputs": []
    }
  ],
  "metadata": {
    "colab": {
      "provenance": [],
      "include_colab_link": true
    },
    "kernelspec": {
      "display_name": "Python 3",
      "language": "python",
      "name": "python3"
    },
    "language_info": {
      "codemirror_mode": {
        "name": "ipython",
        "version": 3
      },
      "file_extension": ".py",
      "mimetype": "text/x-python",
      "name": "python",
      "nbconvert_exporter": "python",
      "pygments_lexer": "ipython3",
      "version": "3.6.8"
    }
  },
  "nbformat": 4,
  "nbformat_minor": 0
}